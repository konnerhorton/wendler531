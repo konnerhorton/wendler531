{
 "cells": [
  {
   "cell_type": "code",
   "execution_count": 20,
   "metadata": {},
   "outputs": [
    {
     "data": {
      "application/vnd.microsoft.datawrangler.viewer.v0+json": {
       "columns": [
        {
         "name": "index",
         "rawType": "int64",
         "type": "integer"
        },
        {
         "name": "week-1",
         "rawType": "object",
         "type": "string"
        },
        {
         "name": "week-2",
         "rawType": "object",
         "type": "string"
        },
        {
         "name": "week-3",
         "rawType": "object",
         "type": "string"
        },
        {
         "name": "week-4",
         "rawType": "object",
         "type": "string"
        }
       ],
       "conversionMethod": "pd.DataFrame",
       "ref": "4a437b58-6efc-41ce-9d50-96a2d7ca83a3",
       "rows": [
        [
         "0",
         "5x180",
         "3x190",
         "5x205",
         "5x110"
        ],
        [
         "1",
         "5x205",
         "3x220",
         "3x235",
         "5x140"
        ],
        [
         "2",
         "5x235",
         "3x250",
         "1x260",
         "5x165"
        ]
       ],
       "shape": {
        "columns": 4,
        "rows": 3
       }
      },
      "text/html": [
       "<div>\n",
       "<style scoped>\n",
       "    .dataframe tbody tr th:only-of-type {\n",
       "        vertical-align: middle;\n",
       "    }\n",
       "\n",
       "    .dataframe tbody tr th {\n",
       "        vertical-align: top;\n",
       "    }\n",
       "\n",
       "    .dataframe thead th {\n",
       "        text-align: right;\n",
       "    }\n",
       "</style>\n",
       "<table border=\"1\" class=\"dataframe\">\n",
       "  <thead>\n",
       "    <tr style=\"text-align: right;\">\n",
       "      <th></th>\n",
       "      <th>week-1</th>\n",
       "      <th>week-2</th>\n",
       "      <th>week-3</th>\n",
       "      <th>week-4</th>\n",
       "    </tr>\n",
       "  </thead>\n",
       "  <tbody>\n",
       "    <tr>\n",
       "      <th>0</th>\n",
       "      <td>5x180</td>\n",
       "      <td>3x190</td>\n",
       "      <td>5x205</td>\n",
       "      <td>5x110</td>\n",
       "    </tr>\n",
       "    <tr>\n",
       "      <th>1</th>\n",
       "      <td>5x205</td>\n",
       "      <td>3x220</td>\n",
       "      <td>3x235</td>\n",
       "      <td>5x140</td>\n",
       "    </tr>\n",
       "    <tr>\n",
       "      <th>2</th>\n",
       "      <td>5x235</td>\n",
       "      <td>3x250</td>\n",
       "      <td>1x260</td>\n",
       "      <td>5x165</td>\n",
       "    </tr>\n",
       "  </tbody>\n",
       "</table>\n",
       "</div>"
      ],
      "text/plain": [
       "  week-1 week-2 week-3 week-4\n",
       "0  5x180  3x190  5x205  5x110\n",
       "1  5x205  3x220  3x235  5x140\n",
       "2  5x235  3x250  1x260  5x165"
      ]
     },
     "execution_count": 20,
     "metadata": {},
     "output_type": "execute_result"
    }
   ],
   "source": [
    "from wendler531 import one_rep_max\n",
    "from wendler531.plotly_config import *\n",
    "from wendler531.cycle import Cycle\n",
    "import plotly.express as px\n",
    "import plotly.graph_objects as go\n",
    "import pandas as pd\n",
    "from wendler531.utilities import round_to_nearest_5, wendler_one_rep_max\n",
    "\n",
    "weight = 155\n",
    "reps = 6\n",
    "orm = round_to_nearest_5(one_rep_max.OneRepMax(weight, reps).mean)\n",
    "orm = 305\n",
    "\n",
    "# worm = wen\n",
    "# cycle = Cycle(170)\n",
    "# cycle.build_records()\n",
    "# cycle.table\n",
    "worm = round_to_nearest_5(wendler_one_rep_max(orm))\n",
    "cycle = Cycle(worm)\n",
    "cycle.table\n",
    "# orm"
   ]
  },
  {
   "cell_type": "code",
   "execution_count": null,
   "metadata": {},
   "outputs": [],
   "source": []
  },
  {
   "cell_type": "code",
   "execution_count": null,
   "metadata": {},
   "outputs": [],
   "source": []
  },
  {
   "cell_type": "markdown",
   "metadata": {},
   "source": []
  }
 ],
 "metadata": {
  "kernelspec": {
   "display_name": ".venv",
   "language": "python",
   "name": "python3"
  },
  "language_info": {
   "codemirror_mode": {
    "name": "ipython",
    "version": 3
   },
   "file_extension": ".py",
   "mimetype": "text/x-python",
   "name": "python",
   "nbconvert_exporter": "python",
   "pygments_lexer": "ipython3",
   "version": "3.13.2"
  }
 },
 "nbformat": 4,
 "nbformat_minor": 2
}
